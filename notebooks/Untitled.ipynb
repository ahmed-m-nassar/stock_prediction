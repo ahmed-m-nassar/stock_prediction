{
 "cells": [
  {
   "cell_type": "code",
   "execution_count": 2,
   "id": "08a6e1df-0607-4232-8f4e-d0c349acd895",
   "metadata": {},
   "outputs": [],
   "source": [
    "import pandas as pd\n",
    "import numpy as np\n",
    "import wandb"
   ]
  },
  {
   "cell_type": "code",
   "execution_count": 29,
   "id": "97a68364-005d-4cfe-b546-590b0ac56d52",
   "metadata": {},
   "outputs": [],
   "source": [
    "df = pd.read_csv(\"..//src//data_ingestion//stock_data.csv\" )"
   ]
  },
  {
   "cell_type": "code",
   "execution_count": 30,
   "id": "ec5400b8-b378-409a-917f-1016d70d8ad9",
   "metadata": {},
   "outputs": [
    {
     "name": "stdout",
     "output_type": "stream",
     "text": [
      "<class 'pandas.core.frame.DataFrame'>\n",
      "RangeIndex: 1006 entries, 0 to 1005\n",
      "Data columns (total 7 columns):\n",
      " #   Column     Non-Null Count  Dtype  \n",
      "---  ------     --------------  -----  \n",
      " 0   Date       1006 non-null   object \n",
      " 1   Open       1006 non-null   float64\n",
      " 2   High       1006 non-null   float64\n",
      " 3   Low        1006 non-null   float64\n",
      " 4   Close      1006 non-null   float64\n",
      " 5   Adj Close  1006 non-null   float64\n",
      " 6   Volume     1006 non-null   int64  \n",
      "dtypes: float64(5), int64(1), object(1)\n",
      "memory usage: 55.1+ KB\n"
     ]
    }
   ],
   "source": [
    "df.info()"
   ]
  },
  {
   "cell_type": "code",
   "execution_count": 23,
   "id": "b1189082-1e89-4d89-8ddd-ca7bd16b4e23",
   "metadata": {},
   "outputs": [],
   "source": [
    "df.iloc[3,4] = np.nan\n",
    "df.iloc[2,4] = np.nan"
   ]
  },
  {
   "cell_type": "code",
   "execution_count": 19,
   "id": "2ee153b4-7f3d-4b4e-83fc-0a05570a9097",
   "metadata": {},
   "outputs": [],
   "source": [
    "from sklearn.impute import SimpleImputer\n",
    "from sklearn.pipeline import Pipeline"
   ]
  },
  {
   "cell_type": "code",
   "execution_count": 31,
   "id": "6e34f628-b640-4908-b142-bd34095b2680",
   "metadata": {},
   "outputs": [],
   "source": [
    "df.columns = df.columns.str.lower().str.replace(' ', '_')"
   ]
  },
  {
   "cell_type": "code",
   "execution_count": 32,
   "id": "052ae315-86d8-47ca-9888-384599e03f76",
   "metadata": {},
   "outputs": [
    {
     "data": {
      "text/html": [
       "<div>\n",
       "<style scoped>\n",
       "    .dataframe tbody tr th:only-of-type {\n",
       "        vertical-align: middle;\n",
       "    }\n",
       "\n",
       "    .dataframe tbody tr th {\n",
       "        vertical-align: top;\n",
       "    }\n",
       "\n",
       "    .dataframe thead th {\n",
       "        text-align: right;\n",
       "    }\n",
       "</style>\n",
       "<table border=\"1\" class=\"dataframe\">\n",
       "  <thead>\n",
       "    <tr style=\"text-align: right;\">\n",
       "      <th></th>\n",
       "      <th>date</th>\n",
       "      <th>open</th>\n",
       "      <th>high</th>\n",
       "      <th>low</th>\n",
       "      <th>close</th>\n",
       "      <th>adj_close</th>\n",
       "      <th>volume</th>\n",
       "    </tr>\n",
       "  </thead>\n",
       "  <tbody>\n",
       "    <tr>\n",
       "      <th>0</th>\n",
       "      <td>2020-01-02</td>\n",
       "      <td>74.059998</td>\n",
       "      <td>75.150002</td>\n",
       "      <td>73.797501</td>\n",
       "      <td>75.087502</td>\n",
       "      <td>73.059425</td>\n",
       "      <td>135480400</td>\n",
       "    </tr>\n",
       "    <tr>\n",
       "      <th>1</th>\n",
       "      <td>2020-01-03</td>\n",
       "      <td>74.287498</td>\n",
       "      <td>75.144997</td>\n",
       "      <td>74.125000</td>\n",
       "      <td>74.357498</td>\n",
       "      <td>72.349144</td>\n",
       "      <td>146322800</td>\n",
       "    </tr>\n",
       "    <tr>\n",
       "      <th>2</th>\n",
       "      <td>2020-01-06</td>\n",
       "      <td>73.447502</td>\n",
       "      <td>74.989998</td>\n",
       "      <td>73.187500</td>\n",
       "      <td>74.949997</td>\n",
       "      <td>72.925629</td>\n",
       "      <td>118387200</td>\n",
       "    </tr>\n",
       "    <tr>\n",
       "      <th>3</th>\n",
       "      <td>2020-01-07</td>\n",
       "      <td>74.959999</td>\n",
       "      <td>75.224998</td>\n",
       "      <td>74.370003</td>\n",
       "      <td>74.597504</td>\n",
       "      <td>72.582657</td>\n",
       "      <td>108872000</td>\n",
       "    </tr>\n",
       "    <tr>\n",
       "      <th>4</th>\n",
       "      <td>2020-01-08</td>\n",
       "      <td>74.290001</td>\n",
       "      <td>76.110001</td>\n",
       "      <td>74.290001</td>\n",
       "      <td>75.797501</td>\n",
       "      <td>73.750237</td>\n",
       "      <td>132079200</td>\n",
       "    </tr>\n",
       "  </tbody>\n",
       "</table>\n",
       "</div>"
      ],
      "text/plain": [
       "         date       open       high        low      close  adj_close  \\\n",
       "0  2020-01-02  74.059998  75.150002  73.797501  75.087502  73.059425   \n",
       "1  2020-01-03  74.287498  75.144997  74.125000  74.357498  72.349144   \n",
       "2  2020-01-06  73.447502  74.989998  73.187500  74.949997  72.925629   \n",
       "3  2020-01-07  74.959999  75.224998  74.370003  74.597504  72.582657   \n",
       "4  2020-01-08  74.290001  76.110001  74.290001  75.797501  73.750237   \n",
       "\n",
       "      volume  \n",
       "0  135480400  \n",
       "1  146322800  \n",
       "2  118387200  \n",
       "3  108872000  \n",
       "4  132079200  "
      ]
     },
     "execution_count": 32,
     "metadata": {},
     "output_type": "execute_result"
    }
   ],
   "source": [
    "df.head()"
   ]
  },
  {
   "cell_type": "code",
   "execution_count": 34,
   "id": "6916c95e-12dd-420e-978b-21ec6bc7ba59",
   "metadata": {},
   "outputs": [],
   "source": [
    "df['open'] = df['open'].interpolate(method='linear')\n",
    "df['high'] = df['high'].interpolate(method='linear')\n",
    "df['low'] = df['low'].interpolate(method='linear')\n",
    "df['close'] = df['close'].interpolate(method='linear')\n",
    "df['adj_close'] = df['adj_close'].interpolate(method='linear')\n",
    "df['volume'] = df['volume'].interpolate(method='linear')"
   ]
  },
  {
   "cell_type": "code",
   "execution_count": 64,
   "id": "d709a3f4-fd1d-4e3d-bc79-d64d90fc4fe2",
   "metadata": {},
   "outputs": [
    {
     "data": {
      "text/html": [
       " View run <strong style=\"color:#cdcd00\">wandering-violet-5</strong> at: <a href='https://wandb.ai/ahmed-nassar-cmp/stock_predictor-notebooks_projects_stock_prices_stock_predictor_notebooks/runs/a16zs1x3' target=\"_blank\">https://wandb.ai/ahmed-nassar-cmp/stock_predictor-notebooks_projects_stock_prices_stock_predictor_notebooks/runs/a16zs1x3</a><br/> View job at <a href='https://wandb.ai/ahmed-nassar-cmp/stock_predictor-notebooks_projects_stock_prices_stock_predictor_notebooks/jobs/QXJ0aWZhY3RDb2xsZWN0aW9uOjE0Mzc1NjU4Mw==/version_details/v0' target=\"_blank\">https://wandb.ai/ahmed-nassar-cmp/stock_predictor-notebooks_projects_stock_prices_stock_predictor_notebooks/jobs/QXJ0aWZhY3RDb2xsZWN0aW9uOjE0Mzc1NjU4Mw==/version_details/v0</a><br/>Synced 5 W&B file(s), 0 media file(s), 0 artifact file(s) and 0 other file(s)"
      ],
      "text/plain": [
       "<IPython.core.display.HTML object>"
      ]
     },
     "metadata": {},
     "output_type": "display_data"
    },
    {
     "data": {
      "text/html": [
       "Find logs at: <code>.\\wandb\\run-20240228_133422-a16zs1x3\\logs</code>"
      ],
      "text/plain": [
       "<IPython.core.display.HTML object>"
      ]
     },
     "metadata": {},
     "output_type": "display_data"
    }
   ],
   "source": [
    "wandb.finish()"
   ]
  },
  {
   "cell_type": "code",
   "execution_count": 3,
   "id": "4d8df35d-f6c9-4ea7-b06c-32752e1dcd95",
   "metadata": {},
   "outputs": [
    {
     "name": "stderr",
     "output_type": "stream",
     "text": [
      "\u001b[34m\u001b[1mwandb\u001b[0m: Currently logged in as: \u001b[33mahmed-nassar-cmp\u001b[0m. Use \u001b[1m`wandb login --relogin`\u001b[0m to force relogin\n"
     ]
    },
    {
     "data": {
      "text/html": [
       "Tracking run with wandb version 0.16.3"
      ],
      "text/plain": [
       "<IPython.core.display.HTML object>"
      ]
     },
     "metadata": {},
     "output_type": "display_data"
    },
    {
     "data": {
      "text/html": [
       "Run data is saved locally in <code>E:\\projects\\stock_prices\\stock_predictor\\notebooks\\wandb\\run-20240228_140444-z05n8zq3</code>"
      ],
      "text/plain": [
       "<IPython.core.display.HTML object>"
      ]
     },
     "metadata": {},
     "output_type": "display_data"
    },
    {
     "data": {
      "text/html": [
       "Syncing run <strong><a href='https://wandb.ai/ahmed-nassar-cmp/stock_predictor/runs/z05n8zq3' target=\"_blank\">proud-feather-7</a></strong> to <a href='https://wandb.ai/ahmed-nassar-cmp/stock_predictor' target=\"_blank\">Weights & Biases</a> (<a href='https://wandb.me/run' target=\"_blank\">docs</a>)<br/>"
      ],
      "text/plain": [
       "<IPython.core.display.HTML object>"
      ]
     },
     "metadata": {},
     "output_type": "display_data"
    },
    {
     "data": {
      "text/html": [
       " View project at <a href='https://wandb.ai/ahmed-nassar-cmp/stock_predictor' target=\"_blank\">https://wandb.ai/ahmed-nassar-cmp/stock_predictor</a>"
      ],
      "text/plain": [
       "<IPython.core.display.HTML object>"
      ]
     },
     "metadata": {},
     "output_type": "display_data"
    },
    {
     "data": {
      "text/html": [
       " View run at <a href='https://wandb.ai/ahmed-nassar-cmp/stock_predictor/runs/z05n8zq3' target=\"_blank\">https://wandb.ai/ahmed-nassar-cmp/stock_predictor/runs/z05n8zq3</a>"
      ],
      "text/plain": [
       "<IPython.core.display.HTML object>"
      ]
     },
     "metadata": {},
     "output_type": "display_data"
    }
   ],
   "source": [
    "import os\n",
    "os.environ[\"WANDB_PROJECT\"] = \"stock_predictor\"\n",
    "os.environ[\"WANDB_RUN_GROUP\"] = \"development\"\n",
    "run = wandb.init()\n"
   ]
  },
  {
   "cell_type": "code",
   "execution_count": 15,
   "id": "f8393ba7-aa97-47a8-ad08-a4fb86f018e7",
   "metadata": {},
   "outputs": [],
   "source": [
    "\n",
    "artifact = run.use_artifact(\"ahmed-nassar-cmp/stock_predictor/stock_data:latest\")"
   ]
  },
  {
   "cell_type": "code",
   "execution_count": 6,
   "id": "81eadbd2-64cf-4376-ae7d-5edddb098ad6",
   "metadata": {},
   "outputs": [
    {
     "data": {
      "text/plain": [
       "'.\\\\artifacts\\\\stock_data-v0\\\\stock_data.csv'"
      ]
     },
     "execution_count": 6,
     "metadata": {},
     "output_type": "execute_result"
    }
   ],
   "source": [
    "artifact"
   ]
  },
  {
   "cell_type": "code",
   "execution_count": 11,
   "id": "865223d9-30f2-45ea-b4e5-bb88a7d39d81",
   "metadata": {},
   "outputs": [
    {
     "name": "stderr",
     "output_type": "stream",
     "text": [
      "\u001b[34m\u001b[1mwandb\u001b[0m:   1 of 1 files downloaded.  \n"
     ]
    }
   ],
   "source": [
    "artifact_dir = artifact.download()"
   ]
  },
  {
   "cell_type": "code",
   "execution_count": 13,
   "id": "a9921135-2b92-4f13-a780-f3e5874c6266",
   "metadata": {},
   "outputs": [
    {
     "data": {
      "text/plain": [
       "'E:\\\\projects\\\\stock_prices\\\\stock_predictor\\\\notebooks\\\\artifacts\\\\stock_data-v0'"
      ]
     },
     "execution_count": 13,
     "metadata": {},
     "output_type": "execute_result"
    }
   ],
   "source": [
    "artifact_dir"
   ]
  },
  {
   "cell_type": "code",
   "execution_count": 65,
   "id": "54c587bf-cf18-4c3c-b465-ec34dd3f2a5e",
   "metadata": {},
   "outputs": [],
   "source": [
    "api = wandb.Api()\n",
    "artifact = api.artifact(\"ahmed-nassar-cmp/stock_predictor/stock_data:v0\")\n",
    "\n"
   ]
  },
  {
   "cell_type": "code",
   "execution_count": 66,
   "id": "c89a148a-401d-4aea-8f51-61f86d372e6c",
   "metadata": {},
   "outputs": [
    {
     "data": {
      "text/html": [
       "Changes to your `wandb` environment variables will be ignored because your `wandb` session has already started. For more information on how to modify your settings with `wandb.init()` arguments, please refer to <a href='https://wandb.me/wandb-init' target=\"_blank\">the W&B docs</a>."
      ],
      "text/plain": [
       "<IPython.core.display.HTML object>"
      ]
     },
     "metadata": {},
     "output_type": "display_data"
    },
    {
     "name": "stderr",
     "output_type": "stream",
     "text": [
      "\u001b[34m\u001b[1mwandb\u001b[0m:   1 of 1 files downloaded.  \n"
     ]
    },
    {
     "data": {
      "text/plain": [
       "'E:\\\\projects\\\\stock_prices\\\\stock_predictor\\\\notebooks\\\\artifacts\\\\stock_data-v0'"
      ]
     },
     "execution_count": 66,
     "metadata": {},
     "output_type": "execute_result"
    }
   ],
   "source": [
    "artifact.download()\n",
    "\n"
   ]
  },
  {
   "cell_type": "code",
   "execution_count": null,
   "id": "57433661-f175-4e8c-b9b2-3ec0ff222709",
   "metadata": {},
   "outputs": [],
   "source": []
  }
 ],
 "metadata": {
  "kernelspec": {
   "display_name": "Python 3 (ipykernel)",
   "language": "python",
   "name": "python3"
  },
  "language_info": {
   "codemirror_mode": {
    "name": "ipython",
    "version": 3
   },
   "file_extension": ".py",
   "mimetype": "text/x-python",
   "name": "python",
   "nbconvert_exporter": "python",
   "pygments_lexer": "ipython3",
   "version": "3.10.4"
  }
 },
 "nbformat": 4,
 "nbformat_minor": 5
}
